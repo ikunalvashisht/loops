{
 "cells": [
  {
   "cell_type": "code",
   "execution_count": null,
   "metadata": {},
   "outputs": [],
   "source": [
    "list1 = [1,2,3,4,5,6,7,8]\n",
    "for k in list1:\n",
    "    print(i)"
   ]
  },
  {
   "cell_type": "code",
   "execution_count": null,
   "metadata": {},
   "outputs": [],
   "source": [
    "tup = (1,2,3,4,5)\n",
    "\n",
    "for t in tup:\n",
    "    print(tup)"
   ]
  },
  {
   "cell_type": "code",
   "execution_count": null,
   "metadata": {},
   "outputs": [],
   "source": [
    "# n = eval(input())\n",
    "prev =  1\n",
    "fb_now = 0\n",
    "for i in range(n):\n",
    "    temp = prev\n",
    "    prev = fb_now\n",
    "    fb_now = temp + fb_now\n",
    "    print(fb_now)\n",
    "    \n",
    "print(\" value of fibonnaci series (\"+str(n) +\") is\",fb_now)"
   ]
  },
  {
   "cell_type": "code",
   "execution_count": null,
   "metadata": {},
   "outputs": [],
   "source": [
    "n = eval(input(\"enter the number of student:\"))\n",
    " name  = \n",
    "\n"
   ]
  },
  {
   "cell_type": "code",
   "execution_count": null,
   "metadata": {},
   "outputs": [],
   "source": [
    "n = eval(input(\"Enter the number of students: \"))\n",
    "stdt_name = input(\"Enter the name of the student: \")\n",
    "score = eval(input(\"Enter the score of the student:  \"))\n",
    "\n",
    "for i in range(n-1):\n",
    "    stdt_name1 = input(\"Enter the name of the student: \")\n",
    "    score1 = eval(input(\"Enter the score of the student:  \"))\n",
    "    \n",
    "if score1>score:\n",
    "    score = score1\n",
    "    stdt_name = stdt_name1\n",
    "    \n",
    "print(stdt_name + \" is the top student with a score of \" , score)"
   ]
  },
  {
   "cell_type": "code",
   "execution_count": 6,
   "metadata": {},
   "outputs": [
    {
     "name": "stdout",
     "output_type": "stream",
     "text": [
      " enter the number\n",
      "01234"
     ]
    }
   ],
   "source": [
    "#wap that display all the numbers from 100 to 1000 that can be divisibe by 5 and 6 and the numbers are seprated by exactly one space \n",
    "print(\" enter the number\")\n",
    "a = \n",
    "for i in range(5):\n",
    "         print(i,end=\"\")\n",
    "if i%5==0 and i%6==0:\n",
    "    print(i)\n",
    "    \n",
    "        \n",
    "        "
   ]
  }
 ],
 "metadata": {
  "kernelspec": {
   "display_name": "Python 3",
   "language": "python",
   "name": "python3"
  }
 },
 "nbformat": 4,
 "nbformat_minor": 2
}
